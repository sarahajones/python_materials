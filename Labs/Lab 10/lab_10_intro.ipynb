{
 "cells": [
  {
   "cell_type": "markdown",
   "id": "270414b6-4d17-4ee9-ab89-9dfdaf66ebcf",
   "metadata": {},
   "source": [
    "# Lab 10: Intro to split-apply-combine operations for tabular data"
   ]
  },
  {
   "cell_type": "code",
   "execution_count": 1,
   "id": "44584190",
   "metadata": {},
   "outputs": [],
   "source": [
    "import pandas as pd"
   ]
  },
  {
   "cell_type": "code",
   "execution_count": 2,
   "id": "ba193f3f",
   "metadata": {},
   "outputs": [
    {
     "data": {
      "text/html": [
       "<div>\n",
       "<style scoped>\n",
       "    .dataframe tbody tr th:only-of-type {\n",
       "        vertical-align: middle;\n",
       "    }\n",
       "\n",
       "    .dataframe tbody tr th {\n",
       "        vertical-align: top;\n",
       "    }\n",
       "\n",
       "    .dataframe thead th {\n",
       "        text-align: right;\n",
       "    }\n",
       "</style>\n",
       "<table border=\"1\" class=\"dataframe\">\n",
       "  <thead>\n",
       "    <tr style=\"text-align: right;\">\n",
       "      <th></th>\n",
       "      <th>subject_id</th>\n",
       "      <th>condition_id</th>\n",
       "      <th>response_time</th>\n",
       "      <th>response</th>\n",
       "    </tr>\n",
       "  </thead>\n",
       "  <tbody>\n",
       "    <tr>\n",
       "      <th>0</th>\n",
       "      <td>312</td>\n",
       "      <td>A1</td>\n",
       "      <td>0.12</td>\n",
       "      <td>LEFT</td>\n",
       "    </tr>\n",
       "    <tr>\n",
       "      <th>1</th>\n",
       "      <td>312</td>\n",
       "      <td>A2</td>\n",
       "      <td>0.37</td>\n",
       "      <td>LEFT</td>\n",
       "    </tr>\n",
       "    <tr>\n",
       "      <th>2</th>\n",
       "      <td>312</td>\n",
       "      <td>C2</td>\n",
       "      <td>0.68</td>\n",
       "      <td>LEFT</td>\n",
       "    </tr>\n",
       "    <tr>\n",
       "      <th>3</th>\n",
       "      <td>313</td>\n",
       "      <td>A1</td>\n",
       "      <td>0.07</td>\n",
       "      <td>RIGHT</td>\n",
       "    </tr>\n",
       "    <tr>\n",
       "      <th>4</th>\n",
       "      <td>313</td>\n",
       "      <td>B1</td>\n",
       "      <td>0.08</td>\n",
       "      <td>RIGHT</td>\n",
       "    </tr>\n",
       "    <tr>\n",
       "      <th>5</th>\n",
       "      <td>314</td>\n",
       "      <td>A2</td>\n",
       "      <td>0.29</td>\n",
       "      <td>LEFT</td>\n",
       "    </tr>\n",
       "    <tr>\n",
       "      <th>6</th>\n",
       "      <td>314</td>\n",
       "      <td>B1</td>\n",
       "      <td>0.14</td>\n",
       "      <td>RIGHT</td>\n",
       "    </tr>\n",
       "    <tr>\n",
       "      <th>7</th>\n",
       "      <td>314</td>\n",
       "      <td>C2</td>\n",
       "      <td>0.73</td>\n",
       "      <td>RIGHT</td>\n",
       "    </tr>\n",
       "    <tr>\n",
       "      <th>8</th>\n",
       "      <td>711</td>\n",
       "      <td>A1</td>\n",
       "      <td>4.01</td>\n",
       "      <td>RIGHT</td>\n",
       "    </tr>\n",
       "    <tr>\n",
       "      <th>9</th>\n",
       "      <td>712</td>\n",
       "      <td>A2</td>\n",
       "      <td>3.29</td>\n",
       "      <td>LEFT</td>\n",
       "    </tr>\n",
       "    <tr>\n",
       "      <th>10</th>\n",
       "      <td>713</td>\n",
       "      <td>B1</td>\n",
       "      <td>5.74</td>\n",
       "      <td>LEFT</td>\n",
       "    </tr>\n",
       "    <tr>\n",
       "      <th>11</th>\n",
       "      <td>714</td>\n",
       "      <td>B2</td>\n",
       "      <td>3.32</td>\n",
       "      <td>RIGHT</td>\n",
       "    </tr>\n",
       "  </tbody>\n",
       "</table>\n",
       "</div>"
      ],
      "text/plain": [
       "   subject_id condition_id  response_time response\n",
       "0         312           A1           0.12     LEFT\n",
       "1         312           A2           0.37     LEFT\n",
       "2         312           C2           0.68     LEFT\n",
       "3         313           A1           0.07    RIGHT\n",
       "4         313           B1           0.08    RIGHT\n",
       "5         314           A2           0.29     LEFT\n",
       "6         314           B1           0.14    RIGHT\n",
       "7         314           C2           0.73    RIGHT\n",
       "8         711           A1           4.01    RIGHT\n",
       "9         712           A2           3.29     LEFT\n",
       "10        713           B1           5.74     LEFT\n",
       "11        714           B2           3.32    RIGHT"
      ]
     },
     "execution_count": 2,
     "metadata": {},
     "output_type": "execute_result"
    }
   ],
   "source": [
    "data = pd.DataFrame(\n",
    "    data=[\n",
    "        ['312', 'A1', 0.12, 'LEFT'],\n",
    "        ['312', 'A2', 0.37, 'LEFT'],\n",
    "        ['312', 'C2', 0.68, 'LEFT'],\n",
    "        ['313', 'A1', 0.07, 'RIGHT'],\n",
    "        ['313', 'B1', 0.08, 'RIGHT'],\n",
    "        ['314', 'A2', 0.29, 'LEFT'],\n",
    "        ['314', 'B1', 0.14, 'RIGHT'],\n",
    "        ['314', 'C2', 0.73, 'RIGHT'],\n",
    "        ['711', 'A1', 4.01, 'RIGHT'],\n",
    "        ['712', 'A2', 3.29, 'LEFT'],\n",
    "        ['713', 'B1', 5.74, 'LEFT'],\n",
    "        ['714', 'B2', 3.32, 'RIGHT'],\n",
    "    ],\n",
    "    columns=['subject_id', 'condition_id', 'response_time', 'response'],\n",
    ")\n",
    "data"
   ]
  },
  {
   "cell_type": "markdown",
   "id": "8a239e0c",
   "metadata": {},
   "source": [
    "# Group-by"
   ]
  },
  {
   "cell_type": "markdown",
   "id": "31eba91e",
   "metadata": {},
   "source": [
    "We want to compute the mean response time by condition.\n",
    "\n",
    "Let's start by doing it by hand, using for loops!"
   ]
  },
  {
   "cell_type": "code",
   "execution_count": null,
   "id": "e8331039",
   "metadata": {},
   "outputs": [],
   "source": [
    "# set up the conditions to loop through\n",
    "conditions = data['condition_id'].unique()\n",
    "\n",
    "# set up a dicitonary to store the results\n",
    "results_dict = {}\n",
    "\n",
    "\n",
    "for condition in conditions:\n",
    "    group = #  .... pull out just those data for one condition (using \"condition\")\n",
    "    results_dict[condition] =  # ... apply the .mean() function to the group you pulled out and save it\n",
    "\n",
    "results = pd.DataFrame([results_dict], index=['response_time'])"
   ]
  },
  {
   "cell_type": "code",
   "execution_count": null,
   "id": "09cb04c4",
   "metadata": {},
   "outputs": [],
   "source": [
    "results # print the results"
   ]
  },
  {
   "cell_type": "code",
   "execution_count": null,
   "id": "26a3e6e1-77a3-41a8-8bb7-10467d1a741b",
   "metadata": {},
   "outputs": [],
   "source": [
    "results = results.T # transpose the data (flip it) to show the results more clearly "
   ]
  },
  {
   "cell_type": "markdown",
   "id": "26cacd7b-8a84-4982-9b19-980249b8e3f5",
   "metadata": {},
   "source": [
    "This is a basic operation, and we would need to repeat this pattern a million times in most analyses!\n",
    "\n",
    "Pandas and all other tools for tabular data provide a command for performing operations on groups.\n",
    "Let's do that instead..."
   ]
  },
  {
   "cell_type": "code",
   "execution_count": null,
   "id": "0500cd4a",
   "metadata": {},
   "outputs": [],
   "source": [
    "# df.groupby(column_name) groups a DataFrame by the values in the column\n",
    "# Group by condition using the .groupby() function\n"
   ]
  },
  {
   "cell_type": "code",
   "execution_count": null,
   "id": "c5857c4e",
   "metadata": {},
   "outputs": [],
   "source": [
    "# The group-by object can by used as a DataFrame, so we can chain directly onto this.\n",
    "# Operations are executed on each group individually, then aggregated\n",
    "\n",
    "# start with the .size() condition"
   ]
  },
  {
   "cell_type": "code",
   "execution_count": null,
   "id": "5c865cc1",
   "metadata": {},
   "outputs": [],
   "source": [
    "# try the applying the .mean() function to the response time grouped by condition\n"
   ]
  },
  {
   "cell_type": "code",
   "execution_count": null,
   "id": "615a4515",
   "metadata": {},
   "outputs": [],
   "source": [
    "# try the applying the .max() function to the response time grouped by condition\n"
   ]
  },
  {
   "cell_type": "markdown",
   "id": "aff3f20c-ca12-476e-86a9-8846ea046533",
   "metadata": {},
   "source": [
    "# Pivot tables - review again and compare!"
   ]
  },
  {
   "cell_type": "markdown",
   "id": "3feec98d",
   "metadata": {},
   "source": [
    "We want to look at response time biases when the subjects respond LEFT vs RIGHT. In principle, we expect them to have the same response time in both cases.\n",
    "\n",
    "We compute a summary table with 1) condition_id on the rows; 2) response on the columns; 3) the average response time for all experiments with a that condition and response\n",
    "\n",
    "We can do it with `groupby`, with some table manipulation commands."
   ]
  },
  {
   "cell_type": "code",
   "execution_count": 5,
   "id": "4a8a7d0d",
   "metadata": {},
   "outputs": [
    {
     "data": {
      "text/plain": [
       "condition_id  response\n",
       "A1            LEFT        0.120000\n",
       "              RIGHT       2.040000\n",
       "A2            LEFT        1.316667\n",
       "B1            LEFT        5.740000\n",
       "              RIGHT       0.110000\n",
       "B2            RIGHT       3.320000\n",
       "C2            LEFT        0.680000\n",
       "              RIGHT       0.730000\n",
       "Name: response_time, dtype: float64"
      ]
     },
     "execution_count": 5,
     "metadata": {},
     "output_type": "execute_result"
    }
   ],
   "source": [
    "summary = data.groupby(['condition_id', 'response'])['response_time'].mean()\n",
    "summary"
   ]
  },
  {
   "cell_type": "code",
   "execution_count": 17,
   "id": "e5a645e0",
   "metadata": {},
   "outputs": [
    {
     "data": {
      "text/html": [
       "<div>\n",
       "<style scoped>\n",
       "    .dataframe tbody tr th:only-of-type {\n",
       "        vertical-align: middle;\n",
       "    }\n",
       "\n",
       "    .dataframe tbody tr th {\n",
       "        vertical-align: top;\n",
       "    }\n",
       "\n",
       "    .dataframe thead th {\n",
       "        text-align: right;\n",
       "    }\n",
       "</style>\n",
       "<table border=\"1\" class=\"dataframe\">\n",
       "  <thead>\n",
       "    <tr style=\"text-align: right;\">\n",
       "      <th>condition_id</th>\n",
       "      <th>A1</th>\n",
       "      <th>A2</th>\n",
       "      <th>B1</th>\n",
       "      <th>B2</th>\n",
       "      <th>C2</th>\n",
       "    </tr>\n",
       "    <tr>\n",
       "      <th>response</th>\n",
       "      <th></th>\n",
       "      <th></th>\n",
       "      <th></th>\n",
       "      <th></th>\n",
       "      <th></th>\n",
       "    </tr>\n",
       "  </thead>\n",
       "  <tbody>\n",
       "    <tr>\n",
       "      <th>LEFT</th>\n",
       "      <td>0.12</td>\n",
       "      <td>1.316667</td>\n",
       "      <td>5.74</td>\n",
       "      <td>NaN</td>\n",
       "      <td>0.68</td>\n",
       "    </tr>\n",
       "    <tr>\n",
       "      <th>RIGHT</th>\n",
       "      <td>2.04</td>\n",
       "      <td>NaN</td>\n",
       "      <td>0.11</td>\n",
       "      <td>3.32</td>\n",
       "      <td>0.73</td>\n",
       "    </tr>\n",
       "  </tbody>\n",
       "</table>\n",
       "</div>"
      ],
      "text/plain": [
       "condition_id    A1        A2    B1    B2    C2\n",
       "response                                      \n",
       "LEFT          0.12  1.316667  5.74   NaN  0.68\n",
       "RIGHT         2.04       NaN  0.11  3.32  0.73"
      ]
     },
     "execution_count": 17,
     "metadata": {},
     "output_type": "execute_result"
    }
   ],
   "source": [
    "summary.unstack(level=1) # play around with level here - what if level = 0 - can you figure out what the method is doing? "
   ]
  },
  {
   "cell_type": "markdown",
   "id": "952d358b-8dec-4426-9256-0b275ba5da1b",
   "metadata": {},
   "source": [
    "But `pivot_table` can also be used to perform this kind of operation straightforwardly."
   ]
  },
  {
   "cell_type": "code",
   "execution_count": null,
   "id": "8941edfe",
   "metadata": {},
   "outputs": [],
   "source": [
    "data.pivot_table(index='condition_id', columns='response', values='response_time', aggfunc='mean')"
   ]
  },
  {
   "cell_type": "code",
   "execution_count": null,
   "id": "a7d1d998",
   "metadata": {},
   "outputs": [],
   "source": [
    "(\n",
    "    data\n",
    "    .pivot_table(\n",
    "        index='condition_id', \n",
    "        columns='response', \n",
    "        values='response_time', \n",
    "        aggfunc=['mean', 'std', 'count'],\n",
    "    )\n",
    ")"
   ]
  }
 ],
 "metadata": {
  "kernelspec": {
   "display_name": "Python 3 (ipykernel)",
   "language": "python",
   "name": "python3"
  },
  "language_info": {
   "codemirror_mode": {
    "name": "ipython",
    "version": 3
   },
   "file_extension": ".py",
   "mimetype": "text/x-python",
   "name": "python",
   "nbconvert_exporter": "python",
   "pygments_lexer": "ipython3",
   "version": "3.12.4"
  }
 },
 "nbformat": 4,
 "nbformat_minor": 5
}
