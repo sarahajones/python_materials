{
 "cells": [
  {
   "cell_type": "markdown",
   "id": "dd4f3eb6-2f00-4824-bc20-b5474465dc16",
   "metadata": {},
   "source": [
    "# Lab 10: Intro to split-apply-combine operations for tabular data"
   ]
  },
  {
   "cell_type": "code",
   "execution_count": null,
   "id": "44584190",
   "metadata": {},
   "outputs": [],
   "source": [
    "import pandas as pd"
   ]
  },
  {
   "cell_type": "code",
   "execution_count": null,
   "id": "ba193f3f",
   "metadata": {},
   "outputs": [],
   "source": [
    "data = pd.DataFrame(\n",
    "    data=[\n",
    "        ['312', 'A1', 0.12, 'LEFT'],\n",
    "        ['312', 'A2', 0.37, 'LEFT'],\n",
    "        ['312', 'C2', 0.68, 'LEFT'],\n",
    "        ['313', 'A1', 0.07, 'RIGHT'],\n",
    "        ['313', 'B1', 0.08, 'RIGHT'],\n",
    "        ['314', 'A2', 0.29, 'LEFT'],\n",
    "        ['314', 'B1', 0.14, 'RIGHT'],\n",
    "        ['314', 'C2', 0.73, 'RIGHT'],\n",
    "        ['711', 'A1', 4.01, 'RIGHT'],\n",
    "        ['712', 'A2', 3.29, 'LEFT'],\n",
    "        ['713', 'B1', 5.74, 'LEFT'],\n",
    "        ['714', 'B2', 3.32, 'RIGHT'],\n",
    "    ],\n",
    "    columns=['subject_id', 'condition_id', 'response_time', 'response'],\n",
    ")\n",
    "data"
   ]
  },
  {
   "cell_type": "markdown",
   "id": "8a239e0c",
   "metadata": {},
   "source": [
    "# Group-by"
   ]
  },
  {
   "cell_type": "markdown",
   "id": "31eba91e",
   "metadata": {},
   "source": [
    "We want to compute the mean response time by condition.\n",
    "\n",
    "Let's start by doing it by hand, using for loops!"
   ]
  },
  {
   "cell_type": "code",
   "execution_count": null,
   "id": "e8331039",
   "metadata": {},
   "outputs": [],
   "source": [
    "conditions = data['condition_id'].unique()\n",
    "results_dict = {}\n",
    "for condition in conditions:\n",
    "    group = data[data['condition_id'] == condition]\n",
    "    results_dict[condition] = group['response_time'].mean()\n",
    "\n",
    "results = pd.DataFrame([results_dict], index=['response_time']).T"
   ]
  },
  {
   "cell_type": "code",
   "execution_count": null,
   "id": "09cb04c4",
   "metadata": {},
   "outputs": [],
   "source": [
    "results"
   ]
  },
  {
   "cell_type": "markdown",
   "id": "50dd5137-dbfe-45e8-91dd-0b10c17f4f30",
   "metadata": {},
   "source": [
    "This is a basic operation, and we would need to repeat this pattern a million times in basic data analysis!\n",
    "\n",
    "Pandas and all other tools for tabular data provide a command for performing operations on groups.\n",
    "Let's do that instead ..."
   ]
  },
  {
   "cell_type": "code",
   "execution_count": null,
   "id": "0500cd4a",
   "metadata": {},
   "outputs": [],
   "source": [
    "# df.groupby(column_name) groups a DataFrame by the values in the column\n",
    "data.groupby('condition_id')"
   ]
  },
  {
   "cell_type": "code",
   "execution_count": null,
   "id": "c5857c4e",
   "metadata": {},
   "outputs": [],
   "source": [
    "# The group-by object can by used as a DataFrame. \n",
    "# Operations are executed on each group individually, then aggregated\n",
    "data.groupby('condition_id').size()"
   ]
  },
  {
   "cell_type": "code",
   "execution_count": null,
   "id": "5c865cc1",
   "metadata": {},
   "outputs": [],
   "source": [
    "data.groupby('condition_id')['response_time'].mean()"
   ]
  },
  {
   "cell_type": "code",
   "execution_count": null,
   "id": "615a4515",
   "metadata": {},
   "outputs": [],
   "source": [
    "data.groupby('condition_id')['response_time'].max()"
   ]
  },
  {
   "cell_type": "markdown",
   "id": "3432f111-639f-4677-9d0a-ffb3e360b019",
   "metadata": {},
   "source": [
    "# Pivot tables - review again and compare!"
   ]
  },
  {
   "cell_type": "markdown",
   "id": "3feec98d",
   "metadata": {},
   "source": [
    "We want to look at response time biases when the subjects respond LEFT vs RIGHT. In principle, we expect them to have the same response time in both cases.\n",
    "\n",
    "We compute a summary table with 1) condition_id on the rows; 2) response on the columns; 3) the average response time for all experiments with a that condition and response\n",
    "\n",
    "We can do it with `groupby`, with some table manipulation commands."
   ]
  },
  {
   "cell_type": "code",
   "execution_count": null,
   "id": "4a8a7d0d",
   "metadata": {},
   "outputs": [],
   "source": [
    "summary = data.groupby(['condition_id', 'response'])['response_time'].mean()\n",
    "summary"
   ]
  },
  {
   "cell_type": "code",
   "execution_count": null,
   "id": "e5a645e0",
   "metadata": {},
   "outputs": [],
   "source": [
    "summary.unstack(level=1) # play around with level here - what if level = 0 - can you figure out what the method is doing? "
   ]
  },
  {
   "cell_type": "markdown",
   "id": "3d03cd49-61d5-49bc-86b8-11bcc2624a48",
   "metadata": {},
   "source": [
    "But `pivot_table` can also be used to perform this kind of operation straightforwardly."
   ]
  },
  {
   "cell_type": "code",
   "execution_count": null,
   "id": "8941edfe",
   "metadata": {},
   "outputs": [],
   "source": [
    "data.pivot_table(index='condition_id', columns='response', values='response_time', aggfunc='mean')"
   ]
  },
  {
   "cell_type": "code",
   "execution_count": null,
   "id": "a7d1d998",
   "metadata": {},
   "outputs": [],
   "source": [
    "(\n",
    "    data\n",
    "    .pivot_table(\n",
    "        index='condition_id', \n",
    "        columns='response', \n",
    "        values='response_time', \n",
    "        aggfunc=['mean', 'std', 'count'],\n",
    "    )\n",
    ")"
   ]
  }
 ],
 "metadata": {
  "kernelspec": {
   "display_name": "Python 3 (ipykernel)",
   "language": "python",
   "name": "python3"
  },
  "language_info": {
   "codemirror_mode": {
    "name": "ipython",
    "version": 3
   },
   "file_extension": ".py",
   "mimetype": "text/x-python",
   "name": "python",
   "nbconvert_exporter": "python",
   "pygments_lexer": "ipython3",
   "version": "3.12.4"
  }
 },
 "nbformat": 4,
 "nbformat_minor": 5
}
