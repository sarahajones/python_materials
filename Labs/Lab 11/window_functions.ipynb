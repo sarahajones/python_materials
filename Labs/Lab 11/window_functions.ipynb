{
 "cells": [
  {
   "cell_type": "markdown",
   "id": "6b7a121d-10fd-43c5-b2fd-a6140398c76b",
   "metadata": {},
   "source": [
    "## Lab 11: Window Functions - grouping, but better!"
   ]
  },
  {
   "cell_type": "markdown",
   "id": "473b050e-3457-43c0-9e72-5b97c26196d5",
   "metadata": {},
   "source": [
    "Let's start by reviewing something we already know how to do - grouping based on some value set and then calculating things like the average or mean. \n",
    "\n",
    "We learnt how to do this using group_by() in lab 10 (before our data viz work!) - let's revise quickly. "
   ]
  },
  {
   "cell_type": "code",
   "execution_count": null,
   "id": "94d8ede6-fab2-4aeb-9ff0-939354b9eb7a",
   "metadata": {},
   "outputs": [],
   "source": [
    "import pandas as pd"
   ]
  },
  {
   "cell_type": "code",
   "execution_count": null,
   "id": "ad9d0a9c-dfda-4d15-be06-fbc1e7573688",
   "metadata": {},
   "outputs": [],
   "source": [
    "# let's play with our old toy dataset for now\n",
    "data = pd.DataFrame(\n",
    "    data=[\n",
    "        ['312', 'A1', 0.12, 'LEFT'],\n",
    "        ['312', 'A2', 0.37, 'LEFT'],\n",
    "        ['312', 'C2', 0.68, 'LEFT'],\n",
    "        ['313', 'A1', 0.07, 'RIGHT'],\n",
    "        ['313', 'B1', 0.08, 'RIGHT'],\n",
    "        ['314', 'A2', 0.29, 'LEFT'],\n",
    "        ['314', 'B1', 0.14, 'RIGHT'],\n",
    "        ['314', 'C2', 0.73, 'RIGHT'],\n",
    "        ['711', 'A1', 4.01, 'RIGHT'],\n",
    "        ['712', 'A2', 3.29, 'LEFT'],\n",
    "        ['713', 'B1', 5.74, 'LEFT'],\n",
    "        ['714', 'B2', 3.32, 'RIGHT'],\n",
    "    ],\n",
    "    columns=['subject_id', 'condition_id', 'response_time', 'response'],\n",
    ")\n",
    "data"
   ]
  },
  {
   "cell_type": "code",
   "execution_count": null,
   "id": "7b6ae79c-ce53-4c40-b94b-bbf457185318",
   "metadata": {},
   "outputs": [],
   "source": [
    "# mean response time by condition?"
   ]
  },
  {
   "cell_type": "code",
   "execution_count": null,
   "id": "7059bb0f-f0c6-4698-b3da-bc232a00c14a",
   "metadata": {},
   "outputs": [],
   "source": [
    "max response time by subject?"
   ]
  },
  {
   "cell_type": "markdown",
   "id": "37f32731-7fce-472f-8763-5ecabba68cd9",
   "metadata": {},
   "source": [
    "What happens to the output - how does the size and shape change? What if we don't want our output to be a different shape or size? \n",
    "\n",
    "Or what if we want to group by something that isn't a categorical variable? What if we want to aggregate across a particualr time window? Or number of rows in a sliding fashion? \n",
    "\n",
    "E.g. what if we wanted to calculate the sum of every 5 rows at a time? \n",
    "\n",
    "Of course, we could do this with a for loop, but what about a more efficient approach (for our big health datasets!)? Time for \"windows\"!"
   ]
  },
  {
   "cell_type": "markdown",
   "id": "e98ba3e7-0997-430f-b2ca-b8ca14447e5b",
   "metadata": {},
   "source": [
    "## Rolling Windows"
   ]
  },
  {
   "cell_type": "markdown",
   "id": "83dc365e-7627-4542-b4d2-2bba3805d7c2",
   "metadata": {},
   "source": [
    "Imagine you are a public health researcher with a dataset which spans many months and years and tracks some metrics of health across different groups or regions (sound familiar? most of your project datasets will likely look a bit like this). \n",
    "\n",
    "Now imagine you want to calculate some values of these metrics as they change over time. How can we do that? \n",
    "\n",
    "For example, let's say if your data is about the number of COVID-19 infections recorded in a  clinic. Any day there were positive cases the clinic logged them, if there were no cases then nothing was logged. You want to aggregate over different period of time, maybe over different windows of time to understand the average infection rates in a more dynamic way to grasp the disease dynmaics themselves.  \n",
    "\n",
    "Let's build a toy version of that dataset and see can we figure out how to do that using \"window\" functions. "
   ]
  },
  {
   "cell_type": "code",
   "execution_count": null,
   "id": "55b005cb-0d85-411d-9f78-66cb0003dc5c",
   "metadata": {},
   "outputs": [],
   "source": [
    "times = ['2021-01-01', '2021-01-03', '2021-01-04', '2021-01-05', '2021-01-29'] # let's set up some dates\n",
    "\n",
    "s = pd.Series(range(5), index=pd.DatetimeIndex(times)) # and add an integer to each date that will represent our \"recorded positive cases\". \n",
    "s"
   ]
  },
  {
   "cell_type": "markdown",
   "id": "eb9392ae-bb80-4a5f-aa9b-9b8127d23e94",
   "metadata": {},
   "source": [
    "Okay, let's say we want to start summing over some number of these rows to build a more \"big picture\" view of these numbers. Remember the rolling weekly infection rates from 2020?\n",
    "\n",
    "Jump here for a quick look: https://www.nyc.gov/site/doh/covid/covid-19-data.page#daily \n",
    "\n",
    "Let's try and get some of those kinds of numbers... \n",
    "\n",
    "\n",
    "The rolling() function will let us do just that by specifying a window that will sum the number of rows specified as our \"window\". \n",
    "Let's say we want to start simple, summing up a rolling addition every two days..."
   ]
  },
  {
   "cell_type": "code",
   "execution_count": null,
   "id": "b30c02cd-3ccb-4659-a799-93205aece68e",
   "metadata": {},
   "outputs": [],
   "source": [
    "# Window with 2 observations\n",
    "\n"
   ]
  },
  {
   "cell_type": "markdown",
   "id": "a9ce0d53-4287-41c8-a8d6-8ca7044cc72b",
   "metadata": {},
   "source": [
    "What do we notice? \n",
    "\n",
    "What happened with the shape of our dataframe? How is this different to something like group_by()?\n",
    "What about the first row, what happened there? \n",
    "\n",
    "But is this actually summing over a certain number of days? Look more carefully. \n",
    "Our days are evenly separated, some have gaps and some skip many days so we aren't actually getting a \"two days rolling sum\" like we hoped. \n",
    "\n",
    "Let's get more specific with our window function - it is really good at handling date items and understands units of time..."
   ]
  },
  {
   "cell_type": "code",
   "execution_count": null,
   "id": "f39d194a-933e-49e6-af05-b310a1ede428",
   "metadata": {},
   "outputs": [],
   "source": [
    "# Window with 2 days worth of observations\n"
   ]
  },
  {
   "cell_type": "markdown",
   "id": "21dc03d8-7a05-4df6-ab52-a439de153086",
   "metadata": {},
   "source": [
    "Note that the unit of time here is days, it cannot be months as months have different numbers of days, if you tried something like \"1M\" you would get a  window error (try it and see what the error message is!)"
   ]
  },
  {
   "cell_type": "code",
   "execution_count": null,
   "id": "97d22498-070e-4ab9-b06c-938fa7b67ff2",
   "metadata": {},
   "outputs": [],
   "source": [
    "# \"1M\": this will throw an error - examine it as part of improving your debugging!"
   ]
  },
  {
   "cell_type": "markdown",
   "id": "d3f1a248-a89f-4ceb-b2dc-cd980cfecda4",
   "metadata": {},
   "source": [
    "If you want to center the calculation around the current row then set center = True, spot the difference in these outputs to understand the difference. "
   ]
  },
  {
   "cell_type": "code",
   "execution_count": null,
   "id": "5c59b4ac-5e18-4a49-9ccd-8a68aad62f6b",
   "metadata": {},
   "outputs": [],
   "source": [
    "s #these are the start value"
   ]
  },
  {
   "cell_type": "code",
   "execution_count": null,
   "id": "385fdd03-fc88-42ad-abb0-4b2b6945f5f7",
   "metadata": {},
   "outputs": [],
   "source": [
    "# sum on 3 obs window"
   ]
  },
  {
   "cell_type": "code",
   "execution_count": null,
   "id": "9eadef37-fab4-4133-8f2a-819b86f2651c",
   "metadata": {},
   "outputs": [],
   "source": [
    "# add our center argument"
   ]
  },
  {
   "cell_type": "markdown",
   "id": "f89f0974-3009-465e-a6a7-f7043f1a30fa",
   "metadata": {},
   "source": [
    "## Expanding windows"
   ]
  },
  {
   "cell_type": "markdown",
   "id": "840e2df8-9ec4-4404-adc9-489fab691477",
   "metadata": {},
   "source": [
    "Okay - what if we want to watch positive cases accumulating over time - with each new row being added to the count? Again we could write a for loop - but that's rarely the best option!\n",
    "\n",
    "For this, we have the expanding() function which is used for cumulative or expanding window calculations. Unlike rolling(), which applies operations over a fixed-size window, expanding() grows the window size as it moves through the data. It starts at the first element and includes all prior elements up to the current one."
   ]
  },
  {
   "cell_type": "code",
   "execution_count": null,
   "id": "49705043-6c6e-4c33-a656-c5380e7b3c7c",
   "metadata": {},
   "outputs": [],
   "source": [
    "s # remember what we have already... "
   ]
  },
  {
   "cell_type": "code",
   "execution_count": null,
   "id": "16a53a73-2235-48c7-baca-eb8fd4999d3b",
   "metadata": {},
   "outputs": [],
   "source": [
    "#expanding() with min periods set to 1 and sum()"
   ]
  },
  {
   "cell_type": "code",
   "execution_count": null,
   "id": "3ea58159-8951-47df-9f42-cf8753944fd0",
   "metadata": {},
   "outputs": [],
   "source": [
    "#expanding() with min periods set to 1 and mean()"
   ]
  },
  {
   "cell_type": "markdown",
   "id": "217898c2-78d4-4dae-895f-0b8e6efc3e3b",
   "metadata": {},
   "source": [
    "Note - these expanding calculations are a special case of rolling statistics. We could achieve an equivalent output with the following rolling() call..."
   ]
  },
  {
   "cell_type": "code",
   "execution_count": null,
   "id": "675570da-9ca7-4d47-8568-4c8cf3053f14",
   "metadata": {},
   "outputs": [],
   "source": [
    "# window plus min periods defined here"
   ]
  },
  {
   "cell_type": "markdown",
   "id": "66a79ab2-9c18-4818-affa-447aad17b221",
   "metadata": {},
   "source": [
    "Why does this happen what is rolling() capturing with each step to achieve this?"
   ]
  },
  {
   "cell_type": "markdown",
   "id": "a182a1e6-f4c5-46a0-afcf-90b205943cce",
   "metadata": {},
   "source": [
    "## Shifting rows"
   ]
  },
  {
   "cell_type": "markdown",
   "id": "402a492b-ab2d-42fe-b94c-aa98f574b568",
   "metadata": {},
   "source": [
    "The .shift() function is used to shift the values of a column or index by a specified number of periods, either forward or backward. It's useful for creating lagged or lead features, comparing data points across different time steps (also good for time series analysis...)"
   ]
  },
  {
   "cell_type": "markdown",
   "id": "a83cc990-c27d-4cbe-ac30-a42d12942cdc",
   "metadata": {},
   "source": [
    "Basic use case - you can use .shift() to calculate differences between current and past values."
   ]
  },
  {
   "cell_type": "code",
   "execution_count": null,
   "id": "9ac2b06e-7f5f-412e-97a7-1f384641c017",
   "metadata": {},
   "outputs": [],
   "source": [
    "data = {'values': [10, 20, 30, 40, 50]}\n",
    "df = pd.DataFrame(data)\n",
    "df"
   ]
  },
  {
   "cell_type": "code",
   "execution_count": null,
   "id": "ee6c84a1-848b-4e64-8163-53a912c88bc1",
   "metadata": {},
   "outputs": [],
   "source": [
    "# Shifting values down by 1 period (default)\n"
   ]
  },
  {
   "cell_type": "code",
   "execution_count": null,
   "id": "545f0ca1-f8b0-419e-a6d1-85ab18dc3218",
   "metadata": {},
   "outputs": [],
   "source": [
    "# Shifting values up by 1 period\n"
   ]
  },
  {
   "cell_type": "code",
   "execution_count": null,
   "id": "2d3e2a73-006e-4bca-a335-c4d423d6e201",
   "metadata": {},
   "outputs": [],
   "source": [
    "# Create a new column for the difference between the current and previous row\n"
   ]
  },
  {
   "cell_type": "code",
   "execution_count": null,
   "id": "adaea866-10fc-4515-ad04-662f24589e77",
   "metadata": {},
   "outputs": [],
   "source": []
  },
  {
   "cell_type": "markdown",
   "id": "1622504c-5fb2-4fdd-ae88-98b2e111b59e",
   "metadata": {},
   "source": [
    "## Exercise/Challenge: Back to our neural data \n",
    "\n",
    "#For each patcher, compute the average number of days they waited between experiments\n",
    "\n",
    "Here is how to proceed\n",
    "1. Use a window function to compute the number of days that elapse between experiment (i.e., the distance between `date`), for each `patcher`. Add that as a new column, `'days from prev'`\n",
    "2. Compute the average `'days from prev'` per patcher\n",
    "\n",
    "With your new awesome vectorization skills, it should only take two lines! (though you may have to lay around first to get here!"
   ]
  },
  {
   "cell_type": "code",
   "execution_count": null,
   "id": "8f9bc8b1",
   "metadata": {},
   "outputs": [],
   "source": [
    "# Set some Pandas options: maximum number of rows/columns it's going to display\n",
    "pd.set_option('display.max_rows', 1000)\n",
    "pd.set_option('display.max_columns', 100)"
   ]
  },
  {
   "cell_type": "code",
   "execution_count": null,
   "id": "b6b1abff",
   "metadata": {},
   "outputs": [],
   "source": [
    "df = pd.read_csv('experiment_data.csv', parse_dates=['date']) # load in the data"
   ]
  },
  {
   "cell_type": "code",
   "execution_count": null,
   "id": "c0237922",
   "metadata": {},
   "outputs": [],
   "source": [
    "df.head()"
   ]
  },
  {
   "cell_type": "code",
   "execution_count": null,
   "id": "e1dec8ea-2c9a-45e7-ac4e-0f2faa61ce62",
   "metadata": {},
   "outputs": [],
   "source": [
    "df['patcher'].unique() # we have two none NAN values here .... "
   ]
  },
  {
   "cell_type": "code",
   "execution_count": null,
   "id": "8e6ecc1e-bb06-469f-8a3f-b86252ad2256",
   "metadata": {},
   "outputs": [],
   "source": []
  },
  {
   "cell_type": "code",
   "execution_count": null,
   "id": "ff2c32f0",
   "metadata": {},
   "outputs": [],
   "source": [
    "# can we view the data more intuitively?"
   ]
  },
  {
   "cell_type": "code",
   "execution_count": null,
   "id": "612215d0",
   "metadata": {},
   "outputs": [],
   "source": [
    " # then  calculate those means"
   ]
  }
 ],
 "metadata": {
  "kernelspec": {
   "display_name": "Python 3 (ipykernel)",
   "language": "python",
   "name": "python3"
  },
  "language_info": {
   "codemirror_mode": {
    "name": "ipython",
    "version": 3
   },
   "file_extension": ".py",
   "mimetype": "text/x-python",
   "name": "python",
   "nbconvert_exporter": "python",
   "pygments_lexer": "ipython3",
   "version": "3.12.4"
  }
 },
 "nbformat": 4,
 "nbformat_minor": 5
}
