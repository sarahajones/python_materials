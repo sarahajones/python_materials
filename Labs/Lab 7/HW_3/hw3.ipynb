{
 "cells": [
  {
   "cell_type": "markdown",
   "metadata": {},
   "source": [
    "# COMS W1002 Computing in Context\n",
    "## Homework 3\n",
    "### Due October 23 at 11:59PM"
   ]
  },
  {
   "cell_type": "markdown",
   "metadata": {},
   "source": [
    "__Problem 1 Part 1:__ (10 points) Write a function that takes in a string as input and returns a list of the unique letters used in the string. Punctuation or any other non-letter should not be counted. Your list should return all letters as lower case and sorted. So for example if the input is ' `Happy days are here again!`' your function should return the list `['a''d','e','g','h','i','n','p','r','s','y']` For this part write your function *without* using list comprehensions."
   ]
  },
  {
   "cell_type": "code",
   "execution_count": null,
   "metadata": {},
   "outputs": [],
   "source": [
    "def unique_letters(s):\n",
    "# your code here"
   ]
  },
  {
   "cell_type": "markdown",
   "metadata": {},
   "source": [
    "__Problem 1 Part 2:__ (10 points) Repeat the exercise above but this time use list comprehensions."
   ]
  },
  {
   "cell_type": "code",
   "execution_count": null,
   "metadata": {},
   "outputs": [],
   "source": [
    "def unique_letters2(s):\n",
    "# your code here"
   ]
  },
  {
   "cell_type": "markdown",
   "metadata": {},
   "source": [
    "__Problem 2 Part 1__ (16 points) \n",
    "\n",
    "**Scrabble Help** In this problem you will write functions that create useful lists when playing scrabble. The file [wordlist.txt](http://www.cs.columbia.edu/~cannon/1002/wordlist.txt) contains contains a large list of words. It is from [this](https://www-personal.umich.edu/~jlawler/wordlist.html) website. Some of these words have punctuation in them and so they are not useful in Scrabble. For this part you will create a function that creates a copy of a file that converts any uppercase letters to lowercase and excludes any lines that include any non-letters (this means no punctuation, spaces, or numbers allowed!). More formally, your function, `convert_list`, takes two strings as parameters. The first string is the input file name and the second is the output file name. After running your function the output file must be a copy of the input file except any lines that have non-letter characters in it should be removed. In addition any uppercase letters sould be changed to lowercase letters in the new file.  \n",
    "\n",
    "Here are some examples: If the term `don't-know` appears in the input file, it should not appear in the output file. If the term `Columbia` appears in the input file it should appear as `columbia` in the output file. If the term `school bus` appears in the input file it should *not* appear in the output file.\n",
    "\n",
    "Please use the function header below. *Do not alter the function header or your submission will not pass our tests.* Here is an example usage of your function:  \n",
    "  \n",
    "`convert_list('wordlist.txt','new_wordlist.txt')`   \n",
    "    \n",
    "The file, `new_wordlist.txt` should be a copy of `wordlist.txt` except it should exclude any lines that have non-letters and should convert any uppercase letters to lowercase. Note: your function does not return anything. It simply creates a new file.\n"
   ]
  },
  {
   "cell_type": "code",
   "execution_count": null,
   "metadata": {},
   "outputs": [],
   "source": [
    "def convert_list(input_file, output_file):\n",
    "    # your code here "
   ]
  },
  {
   "cell_type": "markdown",
   "metadata": {},
   "source": [
    "__Problem 2 Part 2:__ (64 points)  \n",
    "\n",
    "**Scrabble Help:** In this part you will write four functions that generate certain useful lists of words. Each function uses a formal parameter *file_name* which is a variable that will store the name of the file containing the word list. \n",
    "\n",
    "\n",
    " \n",
    "* length_n(file_name, n):  returns a ***list*** of all words of length *n* in the file *file_name*.\n",
    "* starts_with(file_name, n, first_letter):  returns a ***list*** of all words of length *n* beginning with the letter *first_letter* in the file *file_name*\n",
    "* contains_letter(file_name, n, included):  returns a ***list*** of all words of length *n* in the file *file_name* containing the letter *included* but not beginning with it.\n",
    "* vowel_heavy(file_name, n, m): returns a ***list*** of all words of length *n* in the file *file_name* with at least *m* vowels. \n",
    "\n",
    "\n",
    "*Hint:* You can test your functions by making small file with about 20 or so words in it. It will be easier to see if your functions are working correctly on the small file. \n",
    "\n"
   ]
  },
  {
   "cell_type": "markdown",
   "metadata": {},
   "source": [
    "Please use the function headers below. *Do not alter any of the function headers or your submission will not pass our tests.* "
   ]
  },
  {
   "cell_type": "code",
   "execution_count": null,
   "metadata": {},
   "outputs": [],
   "source": [
    "def length_n(file_name,n):\n",
    "    # your code here"
   ]
  },
  {
   "cell_type": "code",
   "execution_count": null,
   "metadata": {},
   "outputs": [],
   "source": [
    "def starts_with(file_name, n, first_letter):\n",
    "    # your code here"
   ]
  },
  {
   "cell_type": "code",
   "execution_count": null,
   "metadata": {},
   "outputs": [],
   "source": [
    "def contains_letter(file_name, n, included):\n",
    "    # your code here"
   ]
  },
  {
   "cell_type": "code",
   "execution_count": null,
   "metadata": {},
   "outputs": [],
   "source": [
    "def vowel_heavy(file_name, n, m):\n",
    "    # your code here"
   ]
  },
  {
   "cell_type": "markdown",
   "metadata": {},
   "source": [
    "### Submission\n",
    "Please rename this notebook [your UNI]\\_hw3.ipynb and submit it under hw3 on Gradescope. So for example I would submit ac1076\\_hw3.ipynb Note: Although you should verify that your functions work, you should not actually demonstrate the use of any of your functions to us. That is, please only submit the function definitions. If you have properly defined them in the designated cells then we will be able to test them. "
   ]
  },
  {
   "cell_type": "markdown",
   "metadata": {},
   "source": [
    "### Grading\n",
    "__Problem 1 Part 1:__  \n",
    "* 2 points for not using list comprehensions\n",
    "* 2 points for each of 4 test cases (two of which I will tell you here)\n",
    "    * Test case 1: 'Happy days are here again!'  \n",
    "    * Test case 2: 'Columbia University in the City of New York'  \n",
    "    * Test case 3: *Not provided*\n",
    "    * Test case 4: *Not provided*\n",
    "      \n",
    "__Problem 1 Part 2:__  \n",
    "* 2 points for using list comprehensions effectively  \n",
    "* 2 pointes for each of 4 test cases (same as above)  \n",
    "\n",
    "__Problem 2 Part 1:__    \n",
    "* 4 points for each test case. We will try a variety of small files. Your function should always genearate a new file with the specificied name. The new file should be a copy of the input file excluding any lines containing any characters that are not letters. The new file should only have lower case letters in it. Be sure to test your code for yourself but submit only the function definition.   \n",
    "  \n",
    "__Problem 2 Part 2:__\n",
    "Each function will be tested on 4 test cases for a total of 16 points each. We will be using our own test file. You should make your own test file, something small, and test your functions for various values of *n, first_letter, included,* and *m*. Although you should test all of your functions carefully, please only submit the function definitions.\n",
    "\n",
    "    "
   ]
  }
 ],
 "metadata": {
  "kernelspec": {
   "display_name": "Python 3 (ipykernel)",
   "language": "python",
   "name": "python3"
  },
  "language_info": {
   "codemirror_mode": {
    "name": "ipython",
    "version": 3
   },
   "file_extension": ".py",
   "mimetype": "text/x-python",
   "name": "python",
   "nbconvert_exporter": "python",
   "pygments_lexer": "ipython3",
   "version": "3.9.12"
  }
 },
 "nbformat": 4,
 "nbformat_minor": 1
}
