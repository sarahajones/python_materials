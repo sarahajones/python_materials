{
 "cells": [
  {
   "cell_type": "code",
   "execution_count": 1,
   "id": "4ba87c49-0b1e-4d31-b505-9ceb1b9414e9",
   "metadata": {},
   "outputs": [],
   "source": [
    "# This is a notebook, it divides our code up into easy to follow chunks (well, we choose how to divide it so it may still be hard to follow!)\n",
    "\n",
    "# We can write comments in each cells, just as we did before in Spyder (just because this is a new format doesn't mean we forget our good coding habits!)\n",
    "\n",
    "# We can have multiple types of cell - \"code\" cells and \"markdown\" cells that together will help us to build a document! "
   ]
  },
  {
   "cell_type": "code",
   "execution_count": 3,
   "id": "c51050de-8c78-429d-a426-ddc569803f57",
   "metadata": {},
   "outputs": [],
   "source": [
    "# When you run a cell, it's output (what would appear in the console) is printed below the cell automatically. \n",
    "\n",
    "# To run a cell, click into it so it is highlighted, then press the \"play\" button above, \n",
    "# alternatively click into the cell and then hit ctrl + enter .\n",
    "\n",
    "# Note: nothing will happen in these two cells, as they only contain comments!\n"
   ]
  },
  {
   "cell_type": "code",
   "execution_count": null,
   "id": "277b6095-3b03-4f58-8db6-e191c8d6e6e5",
   "metadata": {},
   "outputs": [],
   "source": [
    "# You can add new cells in many ways using the menu bar above or using the small menu on teh right of the chun itself. \n",
    "\n",
    "# You can also drag and drop to rearrange chunks "
   ]
  },
  {
   "cell_type": "code",
   "execution_count": 5,
   "id": "e9494ab0-5958-4a61-8b20-c2ae80f107cc",
   "metadata": {},
   "outputs": [
    {
     "data": {
      "text/plain": [
       "6"
      ]
     },
     "execution_count": 5,
     "metadata": {},
     "output_type": "execute_result"
    }
   ],
   "source": [
    "# Our first code cell: \n",
    "\n",
    "x = 2 # we can set a variable up as before\n",
    "x * 3 # and can manipulate it - anything we can do in Python we can do in a code cell here in a jupyter notebook.\n",
    "\n",
    "# Hit run to see what happens\n"
   ]
  },
  {
   "cell_type": "code",
   "execution_count": 7,
   "id": "4b289539-3a97-466b-82bf-6a015f758f1e",
   "metadata": {},
   "outputs": [
    {
     "data": {
      "text/plain": [
       "4"
      ]
     },
     "execution_count": 7,
     "metadata": {},
     "output_type": "execute_result"
    }
   ],
   "source": [
    "y = 2 # set up another variable\n",
    "y * x # the variables you set up in one cell will be held in memory once it is run, so here we can use x to manipulate y"
   ]
  },
  {
   "cell_type": "markdown",
   "id": "a44987c9-8bc0-428d-968b-feb3acc512ff",
   "metadata": {},
   "source": [
    "## Markdown cell\n",
    "Notice that this cell does note seem to be operating like teh ones above. \n",
    "One things that gives is away is the lack of []: brackets outside the cell on the left. \n",
    "Another is the fact that the # seems to have done something different here. \n",
    "\n",
    "This cell will print out this text following typesetting rules that you can input (you might be familiar with LaTeX?)\n",
    "Markdown is a straightforward text writing rich text (bold, italics, lists, \n",
    "headers, etc.) \n",
    "For example *this* would wbe italicised, and **this** will be bolded when we print it out.\n",
    "Finally, ***this right here*** is both bold and italic. \n",
    "\n",
    "We can also use markdown to delineate the different sections \n",
    "# Big heading\n",
    "For naming docs/chapters\n",
    "## Smaller heading\n",
    "For naming sections\n",
    "### Sub-heading\n",
    "For naming sub-sections"
   ]
  },
  {
   "cell_type": "markdown",
   "id": "af10906b-17c5-4132-8cea-1eb868d75689",
   "metadata": {},
   "source": [
    "#Top tip - \n",
    "If you run a markdown cell and then want to edit something either manually convert to a raw cell and then back to a markdown using the drop down menu above... \n",
    "Or hit *esc + m* \n",
    "An it will revert back to your original markdown typesetting that is editable!"
   ]
  },
  {
   "cell_type": "markdown",
   "id": "764469cb-5f1a-4783-aa2d-1c10b80f1f6c",
   "metadata": {},
   "source": [
    "Another way to create sections would be to use the dash line. \n",
    "For example: \n",
    "- This is a section\n",
    "- Another section\n",
    "    - This is a subsection (just insert a tab of space and it registers it for you)\n",
    " \n",
    "We can make those sections fancy: \n",
    "1. Section\n",
    "2. Section\n",
    "   1. Section (but smaller!)"
   ]
  },
  {
   "cell_type": "markdown",
   "id": "fc62017e-91d6-4e04-99e4-a8469e5bc148",
   "metadata": {},
   "source": [
    "We can create hyperlinks to things like a [link to the textbook](https://runestone.academy/ns/books/published/thinkcspy/index.html).\n",
    "Click on the link to follow it just as you would with a pdf!\n",
    "\n",
    "FOr example here are some more resources on [notebooks](https://www.datacamp.com/cheat-sheet/jupyter-notebook-cheat-sheet) and on [markdown](https://www.markdownguide.org/cheat-sheet/) itself. "
   ]
  },
  {
   "cell_type": "markdown",
   "id": "ae3178be-314c-4f0d-9953-52b96ca9b958",
   "metadata": {},
   "source": [
    "Once you have all of your cells written and ready you can \"export\" the notebook as whatever you prefer using the file menu pane. \n",
    "Saving as pdf might require a few more installs but html should always work okay (as is all you will need for this course!)"
   ]
  }
 ],
 "metadata": {
  "kernelspec": {
   "display_name": "Python 3 (ipykernel)",
   "language": "python",
   "name": "python3"
  },
  "language_info": {
   "codemirror_mode": {
    "name": "ipython",
    "version": 3
   },
   "file_extension": ".py",
   "mimetype": "text/x-python",
   "name": "python",
   "nbconvert_exporter": "python",
   "pygments_lexer": "ipython3",
   "version": "3.12.4"
  }
 },
 "nbformat": 4,
 "nbformat_minor": 5
}
