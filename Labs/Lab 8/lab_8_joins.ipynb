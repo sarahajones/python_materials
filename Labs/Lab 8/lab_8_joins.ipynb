{
 "cells": [
  {
   "cell_type": "markdown",
   "id": "f11a76bf",
   "metadata": {},
   "source": [
    "# Exercise: Add experiment information to electrophysiology data"
   ]
  },
  {
   "cell_type": "code",
   "execution_count": 2,
   "id": "b6f2742b",
   "metadata": {},
   "outputs": [],
   "source": [
    "import pandas as pd\n",
    "\n",
    "# Set some Pandas options: maximum number of rows/columns it's going to display\n",
    "pd.set_option('display.max_rows', 1000)\n",
    "pd.set_option('display.max_columns', 100)"
   ]
  },
  {
   "cell_type": "markdown",
   "id": "2967c84e",
   "metadata": {},
   "source": [
    "# Load electrophysiology data"
   ]
  },
  {
   "cell_type": "code",
   "execution_count": 4,
   "id": "ed626ee3",
   "metadata": {},
   "outputs": [],
   "source": [
    "df = pd.read_csv('RCT_collected_data.csv')\n",
    "info = pd.read_csv('op_info.csv')"
   ]
  },
  {
   "cell_type": "markdown",
   "id": "876b5389-6ae6-41d2-ac5d-f836ddf001f6",
   "metadata": {},
   "source": [
    "* What is the shape and what are the columns of each data frame? \n",
    "* What is the level of analysis of each dataframe?"
   ]
  },
  {
   "cell_type": "code",
   "execution_count": null,
   "id": "7bf1c9d1-be31-4e05-8a2c-54951b4ed1be",
   "metadata": {},
   "outputs": [],
   "source": []
  },
  {
   "cell_type": "code",
   "execution_count": null,
   "id": "91736083-480a-4559-8745-abdba7e43b5b",
   "metadata": {},
   "outputs": [],
   "source": []
  },
  {
   "cell_type": "code",
   "execution_count": null,
   "id": "e8cf6ce6-98ec-41ab-9aa7-82658f7bd135",
   "metadata": {},
   "outputs": [],
   "source": []
  },
  {
   "cell_type": "markdown",
   "id": "6ef04686-14d7-48d9-904e-4e361eca2085",
   "metadata": {},
   "source": [
    "# 1. Add experiment information to the electrophysiology results\n",
    "\n",
    "* Use a left join to merge the data\n",
    "* Is there information for every experiment?\n",
    "* How many experiments did each patcher perform?  (i.e., individual OPs, or rows in `info`)\n",
    "* How many samples did each patcher analyze?  (i.e., individual rows in `df`)\n",
    "* Can you join the data another way to get only complete rows? "
   ]
  },
  {
   "cell_type": "code",
   "execution_count": null,
   "id": "1f3f57eb",
   "metadata": {},
   "outputs": [],
   "source": []
  },
  {
   "cell_type": "code",
   "execution_count": null,
   "id": "73eac895-166e-4010-96bb-9b1f3f58f8ec",
   "metadata": {},
   "outputs": [],
   "source": []
  },
  {
   "cell_type": "code",
   "execution_count": null,
   "id": "eb1e5f79-1e35-4eb5-8df7-6f74f667a4de",
   "metadata": {},
   "outputs": [],
   "source": []
  },
  {
   "cell_type": "code",
   "execution_count": null,
   "id": "de50ad33-95da-4cf7-aff1-fd37b96dc242",
   "metadata": {},
   "outputs": [],
   "source": []
  },
  {
   "cell_type": "code",
   "execution_count": null,
   "id": "79945f7c-9089-4e0f-ac6a-7fc59edbe66a",
   "metadata": {},
   "outputs": [],
   "source": []
  },
  {
   "cell_type": "markdown",
   "id": "471c3ad9-c1d5-4bc9-99eb-b879f6121521",
   "metadata": {},
   "source": [
    "# 2. Remove outliers from the table\n",
    "\n",
    "1. Load the list of outliers in `outliers.csv`\n",
    "2. Use an anti-join to remove the outliers from the table, an anti-join returns rows from the first table where there are no matching rows in the second table. \n",
    "3. How many samples (rows) are left in the data?"
   ]
  },
  {
   "cell_type": "code",
   "execution_count": null,
   "id": "7fa953af",
   "metadata": {},
   "outputs": [],
   "source": []
  },
  {
   "cell_type": "code",
   "execution_count": null,
   "id": "28416372-d03c-4c69-b021-52bc2352241d",
   "metadata": {},
   "outputs": [],
   "source": []
  },
  {
   "cell_type": "code",
   "execution_count": null,
   "id": "1969fd23-d905-4f7e-acae-828ff822f301",
   "metadata": {},
   "outputs": [],
   "source": []
  },
  {
   "cell_type": "markdown",
   "id": "f08e1c6f-9589-4465-9006-b4b348d39e56",
   "metadata": {},
   "source": [
    "# 3. Save final result in `processed_RCT_collected_data.csv`\n",
    "\n",
    "1. Using the `.to_csv` method of Pandas DataFrames"
   ]
  },
  {
   "cell_type": "code",
   "execution_count": null,
   "id": "c7bcff45",
   "metadata": {},
   "outputs": [],
   "source": []
  },
  {
   "cell_type": "code",
   "execution_count": null,
   "id": "a29b4065-f734-4c59-ac29-74b4545bf4dc",
   "metadata": {},
   "outputs": [],
   "source": []
  }
 ],
 "metadata": {
  "kernelspec": {
   "display_name": "Python 3 (ipykernel)",
   "language": "python",
   "name": "python3"
  },
  "language_info": {
   "codemirror_mode": {
    "name": "ipython",
    "version": 3
   },
   "file_extension": ".py",
   "mimetype": "text/x-python",
   "name": "python",
   "nbconvert_exporter": "python",
   "pygments_lexer": "ipython3",
   "version": "3.12.4"
  }
 },
 "nbformat": 4,
 "nbformat_minor": 5
}
