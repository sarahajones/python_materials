{
 "cells": [
  {
   "cell_type": "markdown",
   "id": "b5e5dbbe-9d12-4075-851f-6fb143ff639e",
   "metadata": {},
   "source": [
    "# Data Visualisation in Python - Session 1\n",
    "\n"
   ]
  },
  {
   "cell_type": "markdown",
   "id": "b391e435-1fdf-4e2d-8351-d45c319e16e1",
   "metadata": {},
   "source": [
    "Today we will start out our journey to understanding data visualisation in Pyhton using a new module. \n",
    "matplotlib is a library that brings together graphical elements with the power of numpy to represent it visually. \n",
    "It is a relatively intuitive module and can layer together elements (sort of like pandas itself with chains) to build more and more complex graphical elements. "
   ]
  },
  {
   "cell_type": "markdown",
   "id": "ec6a841f-a00e-4e0b-b4a0-6542fc72888d",
   "metadata": {},
   "source": [
    "While there are newer visualisation modules for Python (which we will explore in later sessions), Matplotlib remains the most widely-used data visualisation module across Python in general. Therefore, a good knowledge of Matplotlib is essential. You can also translate many of the concepts you’ll learn about in this session to other libraries that are used for data visualisation in Python.\n",
    "\n",
    "NOTE - This is notebook is not an exhaustive guide to matlpotlib. You can tweak and tinker with every single elements of plots using matplotlib, many of these tweaks and changes are things you will dig into the matplotlib documentation to figure out if you decide to use matplotlib as your main data visualisation library. https://matplotlib.org/stable/index.html \n",
    "\n",
    "I personally do not use matplotlib by default - but it is the perfect place to start thinking about data viz in Python as a beginner.\n",
    "The matplotlib documentation describes the module in the following way: \n",
    "\n",
    "*\"Matplotlib is a comprehensive library for creating static, animated, and interactive visualizations in Python. It makes easy things easy and hard things possible.\"*\n",
    "\n",
    "However, I personally believe that it should read: \n",
    "\n",
    "*\"Matplotlib is a comprehensive library for creating static, animated, and interactive visualizations in Python. It makes easy things easy and hard things feel impossible.\"*\n",
    "\n",
    "So, we will start here and then move onto other modules for other graphs and graph types once we've grasped plotting in Python!\n",
    "\n",
    "Now that we are ready to get started - let's begin by setting up our Python environment to use matplotlib."
   ]
  },
  {
   "cell_type": "code",
   "execution_count": null,
   "id": "e9889dea-b942-4e44-b680-1a63d72ee897",
   "metadata": {},
   "outputs": [],
   "source": [
    "# first step to using matplotlib is to install it - it wil also install numpy as a dependency at the same time\n",
    "\n",
    "# then import it"
   ]
  },
  {
   "cell_type": "markdown",
   "id": "429da8be-d876-4f61-a169-ea2a2ee9dbe9",
   "metadata": {},
   "source": [
    "Now that matplotlib is ready to be used - we need some data. \n",
    "\n",
    "Let's start small and consider a dataset that tracks the number of steps taken each day by an individual. \n",
    "Maybe this is part of a larger dataset which is looking into the data from wearable health tech and it's relation to health outcomes - but for today let's just assume that it's a clean toy version of this type of data that we can use easily. "
   ]
  },
  {
   "cell_type": "code",
   "execution_count": null,
   "id": "6fb357ac-1b28-4791-8efd-423aeeb52d38",
   "metadata": {},
   "outputs": [],
   "source": [
    "# set up a simple set of variables for Python to work with (we won't start with anything big and complicated today not even in a pandas dataframe!)\n",
    "\n",
    "\n"
   ]
  },
  {
   "cell_type": "markdown",
   "id": "19b231be-94f3-4be8-a8c5-40d2537fc975",
   "metadata": {},
   "source": [
    "## Your first plot\n",
    "Now that we have the data we can look into plotting them. \n",
    "At their most straightforward - 2D plots can plot out a single variable against the index of each of their data points. "
   ]
  },
  {
   "cell_type": "code",
   "execution_count": null,
   "id": "edd88617-c256-4cf6-ab5f-383444addfbb",
   "metadata": {},
   "outputs": [],
   "source": [
    "# pick your variable and plot it - plotting the numerical variable of steps seems the most sensible here\n",
    "\n",
    "\n",
    "# matplot lib will place your specified variable on the y axis and plot it against your index on the x axis. "
   ]
  },
  {
   "cell_type": "code",
   "execution_count": null,
   "id": "2bcab6a0-89fa-4e2b-8f5e-773a571ceb52",
   "metadata": {},
   "outputs": [],
   "source": [
    "# however you can also experiment and see what the plt.plot() function would try to show for the days variable... \n",
    "\n"
   ]
  },
  {
   "cell_type": "markdown",
   "id": "96f4cdde-f1fe-4d55-a0bf-2a53becb01c7",
   "metadata": {},
   "source": [
    "plt.show() tells the program that you want the plot to be displayed. When using an interactive environment such as the Console (or Jupyter), the call to show() is not required. \n",
    "\n",
    "However, there is a slight difference to the output with the automatic call to output from Jupyter also generating an additional line of output which specifies the type of output to be created. \n",
    "\n",
    "To supress this line of output (stylistic preference) - you can override the automatic plot generation using the plt.show() function. \n",
    "\n",
    "Play around with the difference below. "
   ]
  },
  {
   "cell_type": "code",
   "execution_count": null,
   "id": "def7d988-195c-44a9-ad08-84d26a531e92",
   "metadata": {},
   "outputs": [],
   "source": [
    "# comment and uncomment the plt.show() function to see the difference in output.\n",
    "\n",
    " \n"
   ]
  },
  {
   "cell_type": "markdown",
   "id": "0cbe02d7-55ce-4f70-81fe-7639071ef925",
   "metadata": {},
   "source": [
    "To make our graphs more meaningful in the 2D space - let's start plotting two variable against each other (instead of one in relation to it's index only). \n",
    "\n",
    "To plot two variables we specify them both inside the plt.plot() function in the order plot(x,y) to specify the axis of each variable of interest. \n",
    "\n",
    "As we are plotting days and steps, it is logical to plot the days on the x axis as a time series and watch how the steps (on the y axis) varies over the days. "
   ]
  },
  {
   "cell_type": "code",
   "execution_count": null,
   "id": "d9972e35-ea5e-4764-a513-d1bb62eef44b",
   "metadata": {},
   "outputs": [],
   "source": []
  },
  {
   "cell_type": "markdown",
   "id": "ea5b48b8-fc3f-4ac6-b958-c1c2d1aa0549",
   "metadata": {},
   "source": [
    "This introduces us to the first two argumens of the plt.plot() function - the x and y vars.\n",
    "    \n",
    "More complexity and plot customisation arises when we begin to explore other arguments in the function."
   ]
  },
  {
   "cell_type": "code",
   "execution_count": null,
   "id": "36f23bcd-1830-4eae-bafd-4b2e4e16363f",
   "metadata": {},
   "outputs": [],
   "source": []
  },
  {
   "cell_type": "markdown",
   "id": "5e5bef66-be16-44f8-b233-ef31a7294b71",
   "metadata": {},
   "source": [
    "By default pyplot.plot() produces a simple line graph. \n",
    "\n",
    "We can override that default by specifying a marker with which to demarcate our data points - \"o\", we can also customise that marker further. \n",
    "\n",
    "Try out \"x\", \"*\", \"-\", and \" \" below. "
   ]
  },
  {
   "cell_type": "code",
   "execution_count": null,
   "id": "577ff808-d7cb-4ed0-86c5-dc6bd232482a",
   "metadata": {},
   "outputs": [],
   "source": []
  },
  {
   "cell_type": "markdown",
   "id": "8e8e241f-cd6e-45e3-9c1f-178423d0a910",
   "metadata": {},
   "source": [
    "Taking this one step further, we can combine the markers with a line using two parts to the third argument - \"o-\"\n",
    "\n",
    "This specifies the marker for the data points while also signalling to pyplot to also draw out the line connecting datapoints. "
   ]
  },
  {
   "cell_type": "code",
   "execution_count": null,
   "id": "6cc8bcad-9764-4f09-9c2d-de26fd068c34",
   "metadata": {},
   "outputs": [],
   "source": []
  },
  {
   "cell_type": "markdown",
   "id": "7106fac2-6da7-446a-a05f-8d83e87207fd",
   "metadata": {},
   "source": [
    "Building one more level of complexity we can add a third part to the third argument - to specify the color of the line and data markers simultaneously. \n",
    "\n",
    "Basic color cues are indicated by letters:\n",
    "\n",
    "\"r\" = red\n",
    "\n",
    "\"b\" = blue\n",
    "\n",
    "\"g\" = green\n",
    "\n",
    "\"y\" = yellow\n",
    "\n",
    "etc.\n",
    "\n",
    "Blue is the default but that can also be explictly specified using \"b\"\n"
   ]
  },
  {
   "cell_type": "code",
   "execution_count": null,
   "id": "5c80f242-c4d7-4971-884c-787341828190",
   "metadata": {},
   "outputs": [],
   "source": []
  },
  {
   "cell_type": "markdown",
   "id": "b9dc5b2d-891f-446a-82ae-c1bdd1ae99a0",
   "metadata": {},
   "source": [
    "Play around below mixing around these color, marker, and line parts of the third argument. \n",
    "\n",
    "What is and is not valid syntax here? \n",
    "\n",
    "Can you find any other markers or basic color indicators just through trial and error? "
   ]
  },
  {
   "cell_type": "code",
   "execution_count": null,
   "id": "47d1677c-eccc-4be3-9164-df6c4287ff82",
   "metadata": {},
   "outputs": [],
   "source": [
    "# Playground: test out the basics here\n",
    "\n",
    "# for example - what would you expect that this \"x:r\" combination might yield? \n",
    "\n",
    "# what about \"*-.y\" ? \n",
    "\n",
    "# what does the marker ^ look like? \n",
    "\n",
    "# what other colors can you find? \n",
    "\n"
   ]
  },
  {
   "cell_type": "markdown",
   "id": "0c8424e7-d381-412a-8d06-422d8efc436f",
   "metadata": {},
   "source": [
    "## Customise your plot further... \n",
    "\n",
    "To customise our plots further - and to abide by our rule for clarity in our data visualisations - we can also add titles to our axes and and plot itself using extra function from submodule pyplot.\n",
    "\n",
    "These functions are all pretty self explantory but can be \"layered\" onto the plot object we build by running them after the initial plot is called."
   ]
  },
  {
   "cell_type": "code",
   "execution_count": null,
   "id": "7be0a683-899e-41d9-8b75-15d3a1d9cd48",
   "metadata": {},
   "outputs": [],
   "source": [
    "# let's add some titles and labels here\n",
    "\n"
   ]
  },
  {
   "cell_type": "markdown",
   "id": "c6232dce-06cd-4184-91b3-d81e86e949b0",
   "metadata": {},
   "source": [
    "What happens if we have more than one series of data (or in this case more than one variable) to plot against each other. \n",
    "\n",
    "So far we have looked just at the steps walked in a given week, what if we want to compare this to previous weeks? \n",
    "\n",
    "Or to an average stepcount so the user can compare their activity levels? "
   ]
  },
  {
   "cell_type": "code",
   "execution_count": null,
   "id": "e789f81e-05df-4994-ae3f-30122f7aeac0",
   "metadata": {},
   "outputs": [],
   "source": [
    "# set up another variable here with steps from the previous week to compare with the current week of activity. \n",
    "\n"
   ]
  },
  {
   "cell_type": "markdown",
   "id": "e459de46-159c-4132-8ee7-b1839762e2e2",
   "metadata": {},
   "source": [
    "To call more than one variables to a plot in this way - that is to say - to show more than one line on a line plot at once - we need to add another \"plot\" call ontop of the original one before we \"show\" the plot itself. \n",
    "\n",
    "In Jupyter this can be as simple as including all the syntax in a  single code chunk, in other IDEs you collect together the commands prior to executing the plt.show() function itself. \n",
    "\n",
    "You can think of these additional function calls, the additional plt.plot() calls as well as the plt.title() calls as layers in your plot that you add stepwise to build up a more complex data visualisation. "
   ]
  },
  {
   "cell_type": "code",
   "execution_count": null,
   "id": "62636eb1-01ac-4621-9877-2eb14a62d689",
   "metadata": {},
   "outputs": [],
   "source": [
    "# now let's try and plot both the current and past week of steps on the same plot by calling them in the same code chunk\n",
    "\n"
   ]
  },
  {
   "cell_type": "code",
   "execution_count": null,
   "id": "65b1bf12-5637-464d-8254-790aba6f688e",
   "metadata": {},
   "outputs": [],
   "source": [
    "# we can add another layer to this to make it a little more readable - gridlines behind the line graphs to help readability:\n",
    "\n",
    "\n"
   ]
  },
  {
   "cell_type": "markdown",
   "id": "dd577caa-c5d6-4dea-bea4-98c0328c1368",
   "metadata": {},
   "source": [
    "However - something is missing. We as the analysts know from our code which line is which because we specified the markers and colors relative to the particular data series. \n",
    "\n",
    "But your reader will not know which is which - to identify that clearly (clarity!) we need one more layer in our plot - the legend. \n",
    "\n",
    "Unsurprisingly - pyplot has another intuitive function to layer that onto our graph here. \n",
    "At it's simplest plt.legend() takes a list of the names of the different data variables we are plotting. You are responsible for inputting the names in the order in which the plot layers were added. \n",
    "If you mix up the labels, no error will be called (a semantic error!)."
   ]
  },
  {
   "cell_type": "code",
   "execution_count": null,
   "id": "66501387-682f-436a-86c7-b03c1f015aaf",
   "metadata": {},
   "outputs": [],
   "source": [
    "# add in a plot legend here!\n",
    "\n"
   ]
  },
  {
   "cell_type": "markdown",
   "id": "9803f003-eebc-40d7-9c2f-9cfe33ada914",
   "metadata": {},
   "source": [
    "## Subplots and the matplotlib figure object\n",
    "\n",
    "Let's take a step further and think about plotting our line data not on a single plot as layers but side-by-side as two subplots for comparison. \n",
    "\n",
    "To do so we first need to think about the matplotlib plot itself and what it entails. \n",
    "\n",
    "Just as with all of Python, what we are doing in matplotlib is creating data types and data objects - what those types are is important for thinking about sub-plots and how to build them. \n",
    "\n",
    "*Figure*: This is the whole region of space that’s created when you create any figure. It is the overall object that contains everything else. We close out this object and any layers or customisation when we \"show\" the plot, generating it by running a code chunk or using plt.show().\n",
    "\r",
    "*Axes*: An Axes object is the object that contains the x-axis and y-axis for a 2D plot. We can have more than one Axes in a figure (this is how we will go about building subplots shortly). \n",
    "\r",
    "*Axis*: An Axis object contains one of the axes, the x-axis or the y-axis for a 2D plo You can think of these as being nested in or contained inside an Axes object such that each Axes object will have more than one axis."
   ]
  },
  {
   "cell_type": "markdown",
   "id": "bf2615df-fdd4-4b1f-9276-b18bc506cae2",
   "metadata": {},
   "source": [
    "We can take this understanding of plots and reconfigure the way we have been plotting above to explicitly acknowledge the figure and axes objects in our plots. This is called object oriented programming and is a useful pivot to build up to creating subplots. \n",
    "\n",
    "To create a figure in this way, you can use the function subplots(), which returns a tuple containing a Figure object and an Axes object when it’s called without arguments:"
   ]
  },
  {
   "cell_type": "code",
   "execution_count": null,
   "id": "b59e5b65-b150-440b-8418-8f6ed78245a8",
   "metadata": {},
   "outputs": [],
   "source": []
  },
  {
   "cell_type": "markdown",
   "id": "d285e13c-1fc9-4865-b826-b73f0cd19d18",
   "metadata": {},
   "source": [
    "You can then build up your plot as normal but instead of layer things onto the plot object, we specify that we are adding information to the axes of the plot. \n",
    "\n",
    "This means little here when we only have one Axes in our Figure object, the output will be the same as before. \n",
    "\n",
    "But we will tweak this formatting below to then specify more than one Axes per Figure and ultimately generate subplots!"
   ]
  },
  {
   "cell_type": "code",
   "execution_count": null,
   "id": "0b5e6fce-eef2-4c41-8061-6eb4126b5409",
   "metadata": {},
   "outputs": [],
   "source": [
    "\n"
   ]
  },
  {
   "cell_type": "markdown",
   "id": "28a02530-3e91-4343-8fa1-10b9449ef122",
   "metadata": {},
   "source": [
    "Now - let's think more on using this approach to generate subplots. \n",
    "\n",
    "We know we can call the subplot function so how can we use that to generate one figure with two Axes (each with an x and a y axis)"
   ]
  },
  {
   "cell_type": "code",
   "execution_count": null,
   "id": "55bccd95-ab53-46ee-845f-494118eb9364",
   "metadata": {},
   "outputs": [],
   "source": []
  },
  {
   "cell_type": "markdown",
   "id": "445f5061-0431-49d2-a5b6-499d0f8cab10",
   "metadata": {},
   "source": [
    "The arguments 1, 2 define a grid of axes consisting of one row and two columns. \n",
    "Depending on how we specify this we can create a \"grid\" of subplots \n",
    "\n",
    "Therefore, this call to subplots() creates two Axes objects. \n",
    "\n",
    "When you create multiple Axes in this way, by convention, you can use the variable name axs (instead of ax).\n",
    "\n",
    "Let's use this knowledge to start recreating the figure from before with the steps from last week and this week. "
   ]
  },
  {
   "cell_type": "code",
   "execution_count": null,
   "id": "d3f3d4f7-1085-4688-881b-710f5f135435",
   "metadata": {},
   "outputs": [],
   "source": [
    "\n"
   ]
  },
  {
   "cell_type": "markdown",
   "id": "9d56092a-aba8-48d9-83e5-791e2977dcb5",
   "metadata": {},
   "source": [
    "But if we wanted one line on each subplot?"
   ]
  },
  {
   "cell_type": "code",
   "execution_count": null,
   "id": "715a1ff6-f267-4941-b7c0-7974208f60d5",
   "metadata": {},
   "outputs": [],
   "source": [
    "\n",
    "\n"
   ]
  },
  {
   "cell_type": "markdown",
   "id": "48c42220-517e-480b-80ce-130708e548e3",
   "metadata": {},
   "source": [
    "Perhaps more interestingly we can place an entirely different plot on the second panel of our figure - the righthand side of our subplot. \n",
    "\n",
    "This could allow us to compare the data in a different way. \n"
   ]
  },
  {
   "cell_type": "code",
   "execution_count": null,
   "id": "30cf6c59-383a-484f-8672-93b1a404cfa2",
   "metadata": {},
   "outputs": [],
   "source": [
    "\n",
    "\n"
   ]
  },
  {
   "cell_type": "markdown",
   "id": "88d6afd6-6576-431a-a143-a89c2fd405bd",
   "metadata": {},
   "source": [
    "We might note that the two subplots are getting alittle crowded together - and we can specify the overall figure size better to accomodate this.\n",
    "\n",
    "We can also create an overall figure title to better example the figure. \n",
    "\n",
    "This requires some figure level method application (rather than ax or axs level). "
   ]
  },
  {
   "cell_type": "code",
   "execution_count": null,
   "id": "8f670c8c-cac2-4925-8b59-a0acaba3acd8",
   "metadata": {},
   "outputs": [],
   "source": [
    "# by default, Matplotlib creates figures with a width of 6.4 inches and a height of 4.8 inches\n",
    "# we can make this larger by using the plt. figure(figsize=(width, height)) function argument appropriately. \n"
   ]
  },
  {
   "cell_type": "markdown",
   "id": "32ff42cf-25a3-408c-9e42-d05788973a74",
   "metadata": {},
   "source": [
    "So far so good - but can you spot the major issue with our new barplot? \n",
    "\n",
    "What's happening on Monday, Wednesday and Saturday? \n",
    "\n",
    "Compare with the line plot on the left - are there data diferences being obscured? \n",
    "\n",
    "\n",
    "\n",
    "\n",
    "Yes, big issue. We are fundementally violating our rule about clarity here - the data on the right are unclear. How can we fix this? "
   ]
  },
  {
   "cell_type": "markdown",
   "id": "5e9cd79a-bf1c-46ab-9929-db26265a746f",
   "metadata": {},
   "source": [
    "One potential fix would be to \"stagger\" our bar placement such that we make sure that we see each bar properly. \n",
    "\n",
    "This might not be a perfect solution, but this manual\"jittering\" of the data is sufficient for now. "
   ]
  },
  {
   "cell_type": "code",
   "execution_count": null,
   "id": "5045ab9e-1ce4-4382-9b03-e9b70dc334ca",
   "metadata": {},
   "outputs": [],
   "source": [
    "\n",
    "\n"
   ]
  },
  {
   "cell_type": "markdown",
   "id": "6e507145-8e3e-4200-a390-17d1f635594a",
   "metadata": {},
   "source": [
    "A next step would be to reduce the overlap further by customisning the width of the bars in our plot so that they are narrower. \n",
    "\n",
    "We can also match up the colors of the two subplots to better aling the data across our figure (clear and consistent!)"
   ]
  },
  {
   "cell_type": "code",
   "execution_count": null,
   "id": "a2f04c18-c93f-4dab-adb6-d7450fffc1ac",
   "metadata": {},
   "outputs": [],
   "source": [
    "\n"
   ]
  },
  {
   "cell_type": "markdown",
   "id": "fb6af9e9-b112-406c-b7ff-b50cd989f4fe",
   "metadata": {},
   "source": [
    "Some more tweaks could include setting up the x axis labels on the bar plot to display as days again, \n",
    "and setting up a figure level legend now that our colours are aligned. "
   ]
  },
  {
   "cell_type": "code",
   "execution_count": null,
   "id": "81c53fe4-b0f4-4a59-83b9-e94d92a0ee30",
   "metadata": {},
   "outputs": [],
   "source": [
    "\n"
   ]
  },
  {
   "cell_type": "markdown",
   "id": "7c5e1ba9-c199-4840-afdb-769b7f4a909a",
   "metadata": {},
   "source": [
    "## Bonus topics: \n",
    "\n",
    "Let's make things a little more complex and think about the strucuture of a bigger grid of subplots.\n",
    "For more details on building up these kinds of grids in interesting ways head to : https://matplotlib.org/stable/users/explain/axes/arranging_axes.html"
   ]
  },
  {
   "cell_type": "code",
   "execution_count": null,
   "id": "f0fc640c-2fb4-4e0d-9819-79a308fd2acc",
   "metadata": {},
   "outputs": [],
   "source": [
    "fig, ax_lst = plt.subplots(2, 2)  # a figure with a 2x2 grid of Axes\n",
    "fig.suptitle('Vertically stacked subplots')  # add a overall title\n",
    "\n",
    "ax_lst[0,0].set_title(\"Panel 1\")\n",
    "ax_lst[0,0].set_xlabel(\"x\")\n",
    "ax_lst[0,1].set_title(\"Panel 2\")\n",
    "ax_lst[0,1].set_xlabel(\"x\")\n",
    "ax_lst[1,0].set_title(\"Panel 3\")\n",
    "ax_lst[1,0].set_xlabel(\"x\")\n",
    "ax_lst[1,1].set_title(\"Panel 4\")\n",
    "ax_lst[1,1].set_xlabel(\"x\")\n",
    "\n",
    "plt.tight_layout() # this command handles the spacing things well - test what it looks like with or without this."
   ]
  },
  {
   "cell_type": "markdown",
   "id": "c3148524-fcd9-46ef-b996-0f64c9b4173e",
   "metadata": {},
   "source": [
    "Waht about playing with color in matplotlib? \n",
    "\n",
    "If we want to use colour to plot out a heat map of outcome propensity across the city (for example) we will need to start thinking about using color gradients. "
   ]
  },
  {
   "cell_type": "code",
   "execution_count": null,
   "id": "79ece196-e404-45d3-b708-7cc41aa6a9f0",
   "metadata": {},
   "outputs": [],
   "source": [
    "import matplotlib as mpl # for this code we will need to move to other parts of the matplotlib module so let's load the whole thing in!\n",
    "\n",
    "fig, ax = plt.subplots(layout='constrained')\n",
    "\n",
    "fig.colorbar(mpl.cm.ScalarMappable(norm=mpl.colors.Normalize(0, 1), cmap='viridis'),\n",
    "             ax=ax, orientation='vertical', label='a colorbar label')\n",
    "\n",
    "# other colormaps that you could use (set by the cmap argument above) include: \n",
    "# 'viridis', 'plasma', 'inferno', 'magma', 'cividis\n",
    "\n",
    "# these colormaps are uniform in their intensity - so they don't \"catch\" the eye at particular values compared to others.\n",
    "\n",
    "# other gradient colormaps include: \n",
    "# 'Greys', 'Purples', 'Blues', 'Greens', 'Oranges', 'Reds','YlOrBr', 'YlOrRd', 'OrRd', 'PuRd', 'RdPu', 'BuPu',\n",
    "# 'GnBu', 'PuBu', 'YlGnBu', 'PuBuGn', 'BuGn', 'YlGn']"
   ]
  },
  {
   "cell_type": "code",
   "execution_count": null,
   "id": "f92f8c51-b413-45b9-9019-4047b26b3100",
   "metadata": {},
   "outputs": [],
   "source": [
    "# set up a function to allow us to explore the color maps directly \n",
    "# (you can ignore this code I taken it directly from the matplotlib documentation to illustrate the points below)\n",
    "\n",
    "import numpy as np\n",
    "\n",
    "cmaps = {}\n",
    "\n",
    "gradient = np.linspace(0, 1, 256)\n",
    "gradient = np.vstack((gradient, gradient))\n",
    "\n",
    "\n",
    "def plot_color_gradients(category, cmap_list):\n",
    "    # Create figure and adjust figure height to number of colormaps\n",
    "    nrows = len(cmap_list)\n",
    "    figh = 0.35 + 0.15 + (nrows + (nrows - 1) * 0.1) * 0.22\n",
    "    fig, axs = plt.subplots(nrows=nrows + 1, figsize=(6.4, figh))\n",
    "    fig.subplots_adjust(top=1 - 0.35 / figh, bottom=0.15 / figh,\n",
    "                        left=0.2, right=0.99)\n",
    "    axs[0].set_title(f'{category} colormaps', fontsize=14)\n",
    "\n",
    "    for ax, name in zip(axs, cmap_list):\n",
    "        ax.imshow(gradient, aspect='auto', cmap=mpl.colormaps[name])\n",
    "        ax.text(-0.01, 0.5, name, va='center', ha='right', fontsize=10,\n",
    "                transform=ax.transAxes)\n",
    "\n",
    "    # Turn off *all* ticks & spines, not just the ones with colormaps.\n",
    "    for ax in axs:\n",
    "        ax.set_axis_off()\n",
    "\n",
    "    # Save colormap list for later.\n",
    "    cmaps[category] = cmap_list"
   ]
  },
  {
   "cell_type": "code",
   "execution_count": null,
   "id": "161393b1-dcf0-4b45-a334-4697ceed6d46",
   "metadata": {},
   "outputs": [],
   "source": [
    "# let's just plot them out to view them all briefly using this custom function\n",
    "\n",
    "# these colors have uniform intensity but vary seqeuntially along a color path\n",
    "plot_color_gradients('Perceptually Uniform Sequential',\n",
    "                     ['viridis', 'plasma', 'inferno', 'magma', 'cividis'])"
   ]
  },
  {
   "cell_type": "code",
   "execution_count": null,
   "id": "1cb827ee-1e7a-4eb5-9bb7-5d9d29bad2d6",
   "metadata": {},
   "outputs": [],
   "source": [
    "# these vary sequentitally along a color path but hae differetn intensities\n",
    "plot_color_gradients('Sequential',\n",
    "                     ['Greys', 'Purples', 'Blues', 'Greens', 'Oranges', 'Reds',\n",
    "                      'YlOrBr', 'YlOrRd', 'OrRd', 'PuRd', 'RdPu', 'BuPu',\n",
    "                      'GnBu', 'PuBu', 'YlGnBu', 'PuBuGn', 'BuGn', 'YlGn'])"
   ]
  },
  {
   "cell_type": "code",
   "execution_count": null,
   "id": "03941cb1-cfd3-4da7-af49-dd2850596f47",
   "metadata": {},
   "outputs": [],
   "source": [
    "# These color maps are cyclical - coming full circle end to end... \n",
    "plot_color_gradients('Cyclic', ['twilight', 'twilight_shifted', 'hsv'])\n"
   ]
  }
 ],
 "metadata": {
  "kernelspec": {
   "display_name": "Python 3 (ipykernel)",
   "language": "python",
   "name": "python3"
  },
  "language_info": {
   "codemirror_mode": {
    "name": "ipython",
    "version": 3
   },
   "file_extension": ".py",
   "mimetype": "text/x-python",
   "name": "python",
   "nbconvert_exporter": "python",
   "pygments_lexer": "ipython3",
   "version": "3.12.4"
  }
 },
 "nbformat": 4,
 "nbformat_minor": 5
}
